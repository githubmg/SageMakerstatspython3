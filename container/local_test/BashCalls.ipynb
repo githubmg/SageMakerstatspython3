{
 "cells": [
  {
   "cell_type": "code",
   "execution_count": 6,
   "metadata": {},
   "outputs": [
    {
     "name": "stdout",
     "output_type": "stream",
     "text": [
      "Starting the training.\n",
      "['/opt/ml/input/data/training/train.csv']\n",
      "Training complete.\n"
     ]
    }
   ],
   "source": [
    "! ./train_local.sh gamma-migration "
   ]
  },
  {
   "cell_type": "code",
   "execution_count": 8,
   "metadata": {},
   "outputs": [
    {
     "name": "stdout",
     "output_type": "stream",
     "text": [
      "Starting the inference server with 64 workers.\n",
      "[2019-04-08 13:55:29 +0000] [11] [INFO] Starting gunicorn 19.9.0\n",
      "[2019-04-08 13:55:29 +0000] [11] [INFO] Listening at: unix:/tmp/gunicorn.sock (11)\n",
      "[2019-04-08 13:55:29 +0000] [11] [INFO] Using worker: gevent\n",
      "[2019-04-08 13:55:29 +0000] [15] [INFO] Booting worker with pid: 15\n",
      "[2019-04-08 13:55:29 +0000] [16] [INFO] Booting worker with pid: 16\n",
      "[2019-04-08 13:55:29 +0000] [81] [INFO] Booting worker with pid: 81\n",
      "[2019-04-08 13:55:29 +0000] [83] [INFO] Booting worker with pid: 83\n",
      "[2019-04-08 13:55:29 +0000] [147] [INFO] Booting worker with pid: 147\n",
      "[2019-04-08 13:55:29 +0000] [148] [INFO] Booting worker with pid: 148\n",
      "[2019-04-08 13:55:29 +0000] [213] [INFO] Booting worker with pid: 213\n",
      "[2019-04-08 13:55:29 +0000] [279] [INFO] Booting worker with pid: 279\n",
      "[2019-04-08 13:55:29 +0000] [344] [INFO] Booting worker with pid: 344\n",
      "[2019-04-08 13:55:29 +0000] [346] [INFO] Booting worker with pid: 346\n",
      "[2019-04-08 13:55:29 +0000] [473] [INFO] Booting worker with pid: 473\n",
      "[2019-04-08 13:55:30 +0000] [539] [INFO] Booting worker with pid: 539\n",
      "[2019-04-08 13:55:30 +0000] [604] [INFO] Booting worker with pid: 604\n",
      "[2019-04-08 13:55:30 +0000] [605] [INFO] Booting worker with pid: 605\n",
      "[2019-04-08 13:55:30 +0000] [669] [INFO] Booting worker with pid: 669\n",
      "[2019-04-08 13:55:30 +0000] [672] [INFO] Booting worker with pid: 672\n",
      "[2019-04-08 13:55:30 +0000] [736] [INFO] Booting worker with pid: 736\n",
      "[2019-04-08 13:55:30 +0000] [802] [INFO] Booting worker with pid: 802\n",
      "[2019-04-08 13:55:30 +0000] [803] [INFO] Booting worker with pid: 803\n",
      "[2019-04-08 13:55:30 +0000] [868] [INFO] Booting worker with pid: 868\n",
      "[2019-04-08 13:55:30 +0000] [869] [INFO] Booting worker with pid: 869\n",
      "[2019-04-08 13:55:30 +0000] [980] [INFO] Booting worker with pid: 980\n",
      "[2019-04-08 13:55:30 +0000] [1061] [INFO] Booting worker with pid: 1061\n",
      "[2019-04-08 13:55:30 +0000] [1063] [INFO] Booting worker with pid: 1063\n",
      "[2019-04-08 13:55:30 +0000] [1064] [INFO] Booting worker with pid: 1064\n",
      "[2019-04-08 13:55:30 +0000] [1129] [INFO] Booting worker with pid: 1129\n",
      "[2019-04-08 13:55:30 +0000] [1196] [INFO] Booting worker with pid: 1196\n",
      "[2019-04-08 13:55:30 +0000] [1339] [INFO] Booting worker with pid: 1339\n",
      "[2019-04-08 13:55:30 +0000] [1388] [INFO] Booting worker with pid: 1388\n",
      "[2019-04-08 13:55:30 +0000] [1452] [INFO] Booting worker with pid: 1452\n",
      "[2019-04-08 13:55:30 +0000] [1453] [INFO] Booting worker with pid: 1453\n",
      "[2019-04-08 13:55:30 +0000] [1456] [INFO] Booting worker with pid: 1456\n",
      "[2019-04-08 13:55:30 +0000] [1455] [INFO] Booting worker with pid: 1455\n",
      "[2019-04-08 13:55:31 +0000] [1712] [INFO] Booting worker with pid: 1712\n",
      "[2019-04-08 13:55:31 +0000] [1714] [INFO] Booting worker with pid: 1714\n",
      "[2019-04-08 13:55:31 +0000] [1717] [INFO] Booting worker with pid: 1717\n",
      "[2019-04-08 13:55:31 +0000] [1901] [INFO] Booting worker with pid: 1901\n",
      "[2019-04-08 13:55:31 +0000] [1845] [INFO] Booting worker with pid: 1845\n",
      "[2019-04-08 13:55:31 +0000] [1902] [INFO] Booting worker with pid: 1902\n",
      "[2019-04-08 13:55:31 +0000] [1976] [INFO] Booting worker with pid: 1976\n",
      "[2019-04-08 13:55:31 +0000] [1977] [INFO] Booting worker with pid: 1977\n",
      "[2019-04-08 13:55:31 +0000] [2042] [INFO] Booting worker with pid: 2042\n",
      "[2019-04-08 13:55:31 +0000] [2079] [INFO] Booting worker with pid: 2079\n",
      "[2019-04-08 13:55:31 +0000] [2109] [INFO] Booting worker with pid: 2109\n",
      "[2019-04-08 13:55:31 +0000] [2110] [INFO] Booting worker with pid: 2110\n",
      "[2019-04-08 13:55:31 +0000] [2174] [INFO] Booting worker with pid: 2174\n",
      "[2019-04-08 13:55:31 +0000] [2303] [INFO] Booting worker with pid: 2303\n",
      "[2019-04-08 13:55:31 +0000] [2308] [INFO] Booting worker with pid: 2308\n",
      "[2019-04-08 13:55:31 +0000] [2501] [INFO] Booting worker with pid: 2501\n",
      "[2019-04-08 13:55:31 +0000] [2625] [INFO] Booting worker with pid: 2625\n",
      "[2019-04-08 13:55:31 +0000] [2627] [INFO] Booting worker with pid: 2627\n",
      "[2019-04-08 13:55:31 +0000] [2693] [INFO] Booting worker with pid: 2693\n",
      "[2019-04-08 13:55:31 +0000] [2822] [INFO] Booting worker with pid: 2822\n",
      "[2019-04-08 13:55:32 +0000] [2955] [INFO] Booting worker with pid: 2955\n",
      "[2019-04-08 13:55:32 +0000] [3015] [INFO] Booting worker with pid: 3015\n",
      "[2019-04-08 13:55:32 +0000] [3082] [INFO] Booting worker with pid: 3082\n",
      "[2019-04-08 13:55:32 +0000] [3128] [INFO] Booting worker with pid: 3128\n",
      "[2019-04-08 13:55:32 +0000] [3274] [INFO] Booting worker with pid: 3274\n",
      "[2019-04-08 13:55:32 +0000] [3338] [INFO] Booting worker with pid: 3338\n",
      "[2019-04-08 13:55:32 +0000] [3340] [INFO] Booting worker with pid: 3340\n",
      "[2019-04-08 13:55:32 +0000] [3469] [INFO] Booting worker with pid: 3469\n",
      "[2019-04-08 13:55:32 +0000] [3505] [INFO] Booting worker with pid: 3505\n",
      "[2019-04-08 13:55:32 +0000] [3598] [INFO] Booting worker with pid: 3598\n",
      "[2019-04-08 13:55:32 +0000] [3600] [INFO] Booting worker with pid: 3600\n",
      "Index(['Col1', 'Col2', 'Col3', 'Col4', 'Col5'], dtype='object')\n",
      "Invoked with 14311 records\n",
      "172.17.0.1 - - [08/Apr/2019:14:00:29 +0000] \"POST /invocations HTTP/1.1\" 200 284042 \"-\" \"curl/7.60.0\"\n",
      "^C\n",
      "Traceback (most recent call last):\n",
      "  File \"/opt/program/serve\", line 71, in <module>\n",
      "    start_server()\n",
      "  File \"/opt/program/serve\", line 61, in start_server\n",
      "    pid, _ = os.wait()\n",
      "KeyboardInterrupt\n"
     ]
    }
   ],
   "source": [
    "! ./serve_local.sh gamma-migration "
   ]
  },
  {
   "cell_type": "code",
   "execution_count": null,
   "metadata": {},
   "outputs": [],
   "source": []
  }
 ],
 "metadata": {
  "kernelspec": {
   "display_name": "conda_python3",
   "language": "python",
   "name": "conda_python3"
  },
  "language_info": {
   "codemirror_mode": {
    "name": "ipython",
    "version": 3
   },
   "file_extension": ".py",
   "mimetype": "text/x-python",
   "name": "python",
   "nbconvert_exporter": "python",
   "pygments_lexer": "ipython3",
   "version": "3.6.5"
  }
 },
 "nbformat": 4,
 "nbformat_minor": 2
}
